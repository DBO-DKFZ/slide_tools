{
 "cells": [
  {
   "cell_type": "markdown",
   "id": "1e931c96-1fe9-4807-93c2-e134ece52cfc",
   "metadata": {},
   "source": [
    "How to use the TileLevelDataset\n",
    "-------------------------------"
   ]
  },
  {
   "cell_type": "code",
   "execution_count": 1,
   "id": "64a76b07-1d53-406d-802a-a722af4e5221",
   "metadata": {},
   "outputs": [],
   "source": [
    "import os\n",
    "import time\n",
    "import glob\n",
    "import pandas as pd\n",
    "import slide_tools"
   ]
  },
  {
   "cell_type": "code",
   "execution_count": 2,
   "id": "b22f48a7-9a45-420f-94e8-5e518b6727ee",
   "metadata": {},
   "outputs": [
    {
     "data": {
      "text/html": [
       "<div>\n",
       "<style scoped>\n",
       "    .dataframe tbody tr th:only-of-type {\n",
       "        vertical-align: middle;\n",
       "    }\n",
       "\n",
       "    .dataframe tbody tr th {\n",
       "        vertical-align: top;\n",
       "    }\n",
       "\n",
       "    .dataframe thead th {\n",
       "        text-align: right;\n",
       "    }\n",
       "</style>\n",
       "<table border=\"1\" class=\"dataframe\">\n",
       "  <thead>\n",
       "    <tr style=\"text-align: right;\">\n",
       "      <th></th>\n",
       "      <th>SlideNr</th>\n",
       "      <th>HRD(BRCA1)</th>\n",
       "      <th>label</th>\n",
       "      <th>slide</th>\n",
       "      <th>annotation</th>\n",
       "    </tr>\n",
       "  </thead>\n",
       "  <tbody>\n",
       "    <tr>\n",
       "      <th>0</th>\n",
       "      <td>10</td>\n",
       "      <td>0</td>\n",
       "      <td>ago-tr1/labels/10.json</td>\n",
       "      <td>ago-tr1/slides/10.svs</td>\n",
       "      <td>ago-tr1/annotations/10.geojson</td>\n",
       "    </tr>\n",
       "    <tr>\n",
       "      <th>1</th>\n",
       "      <td>100</td>\n",
       "      <td>1</td>\n",
       "      <td>ago-tr1/labels/100.json</td>\n",
       "      <td>ago-tr1/slides/100.svs</td>\n",
       "      <td>ago-tr1/annotations/100.geojson</td>\n",
       "    </tr>\n",
       "    <tr>\n",
       "      <th>2</th>\n",
       "      <td>101</td>\n",
       "      <td>1</td>\n",
       "      <td>ago-tr1/labels/101.json</td>\n",
       "      <td>ago-tr1/slides/101.svs</td>\n",
       "      <td>ago-tr1/annotations/101.geojson</td>\n",
       "    </tr>\n",
       "    <tr>\n",
       "      <th>3</th>\n",
       "      <td>103</td>\n",
       "      <td>1</td>\n",
       "      <td>ago-tr1/labels/103.json</td>\n",
       "      <td>ago-tr1/slides/103.svs</td>\n",
       "      <td>ago-tr1/annotations/103.geojson</td>\n",
       "    </tr>\n",
       "    <tr>\n",
       "      <th>4</th>\n",
       "      <td>106</td>\n",
       "      <td>1</td>\n",
       "      <td>ago-tr1/labels/106.json</td>\n",
       "      <td>ago-tr1/slides/106.svs</td>\n",
       "      <td>ago-tr1/annotations/106.geojson</td>\n",
       "    </tr>\n",
       "    <tr>\n",
       "      <th>...</th>\n",
       "      <td>...</td>\n",
       "      <td>...</td>\n",
       "      <td>...</td>\n",
       "      <td>...</td>\n",
       "      <td>...</td>\n",
       "    </tr>\n",
       "    <tr>\n",
       "      <th>127</th>\n",
       "      <td>84</td>\n",
       "      <td>1</td>\n",
       "      <td>ago-tr1/labels/84.json</td>\n",
       "      <td>ago-tr1/slides/84.svs</td>\n",
       "      <td>ago-tr1/annotations/84.geojson</td>\n",
       "    </tr>\n",
       "    <tr>\n",
       "      <th>128</th>\n",
       "      <td>85</td>\n",
       "      <td>1</td>\n",
       "      <td>ago-tr1/labels/85.json</td>\n",
       "      <td>ago-tr1/slides/85.svs</td>\n",
       "      <td>ago-tr1/annotations/85.geojson</td>\n",
       "    </tr>\n",
       "    <tr>\n",
       "      <th>129</th>\n",
       "      <td>9</td>\n",
       "      <td>0</td>\n",
       "      <td>ago-tr1/labels/9.json</td>\n",
       "      <td>ago-tr1/slides/9.svs</td>\n",
       "      <td>ago-tr1/annotations/9.geojson</td>\n",
       "    </tr>\n",
       "    <tr>\n",
       "      <th>130</th>\n",
       "      <td>92</td>\n",
       "      <td>1</td>\n",
       "      <td>ago-tr1/labels/92.json</td>\n",
       "      <td>ago-tr1/slides/92.svs</td>\n",
       "      <td>ago-tr1/annotations/92.geojson</td>\n",
       "    </tr>\n",
       "    <tr>\n",
       "      <th>131</th>\n",
       "      <td>99</td>\n",
       "      <td>1</td>\n",
       "      <td>ago-tr1/labels/99.json</td>\n",
       "      <td>ago-tr1/slides/99.svs</td>\n",
       "      <td>ago-tr1/annotations/99.geojson</td>\n",
       "    </tr>\n",
       "  </tbody>\n",
       "</table>\n",
       "<p>132 rows × 5 columns</p>\n",
       "</div>"
      ],
      "text/plain": [
       "    SlideNr  HRD(BRCA1)                    label                   slide  \\\n",
       "0        10           0   ago-tr1/labels/10.json   ago-tr1/slides/10.svs   \n",
       "1       100           1  ago-tr1/labels/100.json  ago-tr1/slides/100.svs   \n",
       "2       101           1  ago-tr1/labels/101.json  ago-tr1/slides/101.svs   \n",
       "3       103           1  ago-tr1/labels/103.json  ago-tr1/slides/103.svs   \n",
       "4       106           1  ago-tr1/labels/106.json  ago-tr1/slides/106.svs   \n",
       "..      ...         ...                      ...                     ...   \n",
       "127      84           1   ago-tr1/labels/84.json   ago-tr1/slides/84.svs   \n",
       "128      85           1   ago-tr1/labels/85.json   ago-tr1/slides/85.svs   \n",
       "129       9           0    ago-tr1/labels/9.json    ago-tr1/slides/9.svs   \n",
       "130      92           1   ago-tr1/labels/92.json   ago-tr1/slides/92.svs   \n",
       "131      99           1   ago-tr1/labels/99.json   ago-tr1/slides/99.svs   \n",
       "\n",
       "                          annotation  \n",
       "0     ago-tr1/annotations/10.geojson  \n",
       "1    ago-tr1/annotations/100.geojson  \n",
       "2    ago-tr1/annotations/101.geojson  \n",
       "3    ago-tr1/annotations/103.geojson  \n",
       "4    ago-tr1/annotations/106.geojson  \n",
       "..                               ...  \n",
       "127   ago-tr1/annotations/84.geojson  \n",
       "128   ago-tr1/annotations/85.geojson  \n",
       "129    ago-tr1/annotations/9.geojson  \n",
       "130   ago-tr1/annotations/92.geojson  \n",
       "131   ago-tr1/annotations/99.geojson  \n",
       "\n",
       "[132 rows x 5 columns]"
      ]
     },
     "execution_count": 2,
     "metadata": {},
     "output_type": "execute_result"
    }
   ],
   "source": [
    "root = \"/mnt/data/Lennard/gyn\"\n",
    "csv_train = \"ago-tr1/csv/finetune_train_1.csv\"\n",
    "frame = pd.read_csv(os.path.join(root, csv_train))\n",
    "frame"
   ]
  },
  {
   "cell_type": "markdown",
   "id": "edf8213d-1539-4874-99b3-efe8f6829d09",
   "metadata": {},
   "source": [
    "### Create dataset from slide, annotations, tile labels and slide labels"
   ]
  },
  {
   "cell_type": "code",
   "execution_count": 3,
   "id": "c8bc3017-48a6-4ca5-8af3-6ef7ecd07941",
   "metadata": {},
   "outputs": [],
   "source": [
    "rootify = lambda path: os.path.join(root, path)"
   ]
  },
  {
   "cell_type": "code",
   "execution_count": 4,
   "id": "7cd09d5a-fa0a-4448-bc11-79c82d7bcc42",
   "metadata": {},
   "outputs": [
    {
     "name": "stderr",
     "output_type": "stream",
     "text": [
      "[Plugin: cucim.kit.cuslide] Loading the dynamic library from: /home/caduser/anaconda3/envs/tmmae/lib/python3.8/site-packages/cucim/clara/cucim.kit.cuslide@22.02.00.so\n",
      "Initializing plugin: cucim.kit.cuslide (interfaces: [cucim::io::IImageFormat v0.1]) (impl: cucim.kit.cuslide)\n",
      "[Plugin: cucim.kit.cumed] Loading the dynamic library from: /home/caduser/anaconda3/envs/tmmae/lib/python3.8/site-packages/cucim/clara/cucim.kit.cumed@22.02.00.so\n",
      "Initializing plugin: cucim.kit.cumed (interfaces: [cucim::io::IImageFormat v0.1]) (impl: cucim.kit.cumed)\n"
     ]
    },
    {
     "name": "stdout",
     "output_type": "stream",
     "text": [
      "Found 16101629 tiles of native size\n",
      "CPU times: user 1min 5s, sys: 2.82 s, total: 1min 8s\n",
      "Wall time: 1min 8s\n"
     ]
    }
   ],
   "source": [
    "%%time\n",
    "ds = slide_tools.tile_level.TileLevelDataset(\n",
    "    slide_paths=frame.slide.apply(rootify),\n",
    "    annotation_paths=frame.annotation.apply(rootify),\n",
    "    label_paths=frame.label.apply(rootify),\n",
    "    global_labels=frame[[\"HRD(BRCA1)\"]].to_dict(\"records\"),\n",
    "    simplify_tolerance=100,\n",
    ")\n",
    "print(f\"Found {len(ds.samples)} tiles of native size\")\n",
    "\n",
    "# Found 16101629 tiles of native size\n",
    "# CPU times: user 1min 5s, sys: 2.82 s, total: 1min 8s\n",
    "# Wall time: 1min 8s"
   ]
  },
  {
   "cell_type": "markdown",
   "id": "80259f5a-dd92-4609-949a-2436dbee82c4",
   "metadata": {},
   "source": [
    "### Tiles with overlap and centroid within annotation"
   ]
  },
  {
   "cell_type": "code",
   "execution_count": 5,
   "id": "e260caa4-d170-4985-829b-bb5d00dd486d",
   "metadata": {},
   "outputs": [
    {
     "name": "stdout",
     "output_type": "stream",
     "text": [
      "Found 28201545 tiles of native size inside annotations with overlap of 0.5\n",
      "CPU times: user 36.9 s, sys: 5.08 s, total: 42 s\n",
      "Wall time: 42.1 s\n"
     ]
    }
   ],
   "source": [
    "%%time\n",
    "region_overlap = 0.5\n",
    "ds.setup_regions(centroid_in_annotation=True, region_overlap=region_overlap, with_labels=True)\n",
    "ds.setup_epoch()\n",
    "print(f\"Found {len(ds.samples)} tiles of native size inside annotations with overlap of {region_overlap}\")\n",
    "\n",
    "# Found 28201545 tiles of native size inside annotations with overlap of 0.5\n",
    "# CPU times: user 36.9 s, sys: 5.08 s, total: 42 s\n",
    "# Wall time: 42.1 s"
   ]
  },
  {
   "cell_type": "markdown",
   "id": "a121d29b-a1e1-452a-aa04-9e288e536852",
   "metadata": {},
   "source": [
    "### Balancing by size "
   ]
  },
  {
   "cell_type": "code",
   "execution_count": 6,
   "id": "7ff8477c-862d-40a0-8d2b-d8a14d4e199e",
   "metadata": {},
   "outputs": [
    {
     "name": "stdout",
     "output_type": "stream",
     "text": [
      "Found 1733028 tiles of native size inside annotations with overlap of 0.5 and balanced by size and label\n",
      "CPU times: user 4.74 s, sys: 2.51 s, total: 7.25 s\n",
      "Wall time: 7.29 s\n"
     ]
    }
   ],
   "source": [
    "%%time\n",
    "ds.setup_epoch(\n",
    "    shuffle=True,\n",
    "    balance_size_by=slide_tools.objects.BalanceMode.MIN,  # MIN=Undersampling, MAX=Oversampling, MEDIAN/MEAN=Mix\n",
    "    balance_label_key=\"HRD(BRCA1)\",\n",
    "    balance_label_bins=2,\n",
    "    shuffle_chunk_size=16\n",
    ")\n",
    "print(f\"Found {len(ds.samples)} tiles of native size inside annotations with overlap of {region_overlap} and balanced by size and label\")\n",
    "\n",
    "# Found 1733028 tiles of native size inside annotations with overlap of 0.5 and balanced by size and label\n",
    "# CPU times: user 4.74 s, sys: 2.51 s, total: 7.25 s\n",
    "# Wall time: 7.29 s"
   ]
  },
  {
   "cell_type": "markdown",
   "id": "6f42a4ad-3feb-44fc-86ab-06450b3e2abb",
   "metadata": {},
   "source": [
    "### Let's have a look at the speed"
   ]
  },
  {
   "cell_type": "code",
   "execution_count": 7,
   "id": "f8573446-8f64-4815-8360-c1bf32ae9bf4",
   "metadata": {},
   "outputs": [],
   "source": [
    "import torch"
   ]
  },
  {
   "cell_type": "code",
   "execution_count": 8,
   "id": "81d82f5e-24a4-4b32-9a13-84a7f23bb17e",
   "metadata": {},
   "outputs": [],
   "source": [
    "bs = 128\n",
    "num_workers = 8\n",
    "dl = torch.utils.data.DataLoader(ds, shuffle=False, batch_size=bs, num_workers=num_workers)"
   ]
  },
  {
   "cell_type": "code",
   "execution_count": 9,
   "id": "264826ca-e139-46e3-a72a-c7a8e4633302",
   "metadata": {},
   "outputs": [
    {
     "name": "stdout",
     "output_type": "stream",
     "text": [
      "1139 240x240 tiles per second with num_workers=8\n"
     ]
    }
   ],
   "source": [
    "N = 100\n",
    "for i, batch in enumerate(dl):\n",
    "    if i == 20:\n",
    "        t0 = time.time()\n",
    "    if i == (N + 20):\n",
    "        t = time.time() - t0\n",
    "        break\n",
    "        \n",
    "print(f\"{bs*N/t:.0f} 240x240 tiles per second with {num_workers=}\")\n",
    "\n",
    "# 1139 240x240 tiles per second with num_workers=8"
   ]
  },
  {
   "cell_type": "markdown",
   "id": "5941a1e7-bdd4-4dad-92f3-3e4fd38bb330",
   "metadata": {},
   "source": [
    "### Checkout the main documentation for further options"
   ]
  },
  {
   "cell_type": "code",
   "execution_count": 10,
   "id": "18279917-49a9-4a60-affe-3650f9ca057e",
   "metadata": {},
   "outputs": [
    {
     "data": {
      "text/plain": [
       "\u001b[0;31mInit signature:\u001b[0m \u001b[0mslide_tools\u001b[0m\u001b[0;34m.\u001b[0m\u001b[0mtile_level\u001b[0m\u001b[0;34m.\u001b[0m\u001b[0mTileLevelDataset\u001b[0m\u001b[0;34m(\u001b[0m\u001b[0;34m*\u001b[0m\u001b[0margs\u001b[0m\u001b[0;34m,\u001b[0m \u001b[0;34m**\u001b[0m\u001b[0mkwds\u001b[0m\u001b[0;34m)\u001b[0m\u001b[0;34m\u001b[0m\u001b[0;34m\u001b[0m\u001b[0m\n",
       "\u001b[0;31mDocstring:\u001b[0m     \n",
       "An abstract class representing a :class:`Dataset`.\n",
       "\n",
       "All datasets that represent a map from keys to data samples should subclass\n",
       "it. All subclasses should overwrite :meth:`__getitem__`, supporting fetching a\n",
       "data sample for a given key. Subclasses could also optionally overwrite\n",
       ":meth:`__len__`, which is expected to return the size of the dataset by many\n",
       ":class:`~torch.utils.data.Sampler` implementations and the default options\n",
       "of :class:`~torch.utils.data.DataLoader`.\n",
       "\n",
       ".. note::\n",
       "  :class:`~torch.utils.data.DataLoader` by default constructs a index\n",
       "  sampler that yields integral indices.  To make it work with a map-style\n",
       "  dataset with non-integral indices/keys, a custom sampler must be provided.\n",
       "\u001b[0;31mInit docstring:\u001b[0m\n",
       "Map-style dataset for tile-level training of WSI.\n",
       "\n",
       "The idea is to call .setup_epoch(...) at the beginning of every epoch to sample\n",
       "new tiles from the pool of available WSI. This will populate .samples which\n",
       "are just indices ((slide_idx, region_idx), ...). Balancing by slide size and tile labels\n",
       "is supported. Shuffling is also handled inside this dataset (so you should disbale it\n",
       "in your DataLoader)and can be done in chunks such that a worker is more likely to read\n",
       "a few (neighboring) tiles from the same slide which should lead to some speed up.\n",
       "\n",
       "Regions are np.array with shape=[height, width, channels].\n",
       "\n",
       "Args:\n",
       "    slide_paths (sequence of str): WSI paths (must be readable by cuCIM)\n",
       "    annotation_paths (sequence of str, optional): annotation-GeoJSON paths\n",
       "    label_paths (sequence of str, optional): label-JSON paths\n",
       "    global_labels (dict, optional): global label dictionary\n",
       "    img_tfms (callable, optional): image transform (np.array -> np.array or torch.tensor)\n",
       "    label_tfms (callable, optional): label transform (dict of np.array -> dict of np.array)\n",
       "    **kwargs: passed down to .setup_regions() and .setup_epoch()\n",
       "\u001b[0;31mFile:\u001b[0m           ~/Lennard/slide_tools/slide_tools/tile_level/tile_level_dataset.py\n",
       "\u001b[0;31mType:\u001b[0m           type\n",
       "\u001b[0;31mSubclasses:\u001b[0m     \n"
      ]
     },
     "metadata": {},
     "output_type": "display_data"
    }
   ],
   "source": [
    "slide_tools.tile_level.TileLevelDataset?"
   ]
  },
  {
   "cell_type": "code",
   "execution_count": 11,
   "id": "cd46472f-82dc-46a1-aa92-9ef19ec312a0",
   "metadata": {},
   "outputs": [
    {
     "data": {
      "text/plain": [
       "\u001b[0;31mSignature:\u001b[0m\n",
       "\u001b[0mds\u001b[0m\u001b[0;34m.\u001b[0m\u001b[0msetup_regions\u001b[0m\u001b[0;34m(\u001b[0m\u001b[0;34m\u001b[0m\n",
       "\u001b[0;34m\u001b[0m    \u001b[0msize\u001b[0m\u001b[0;34m:\u001b[0m \u001b[0mUnion\u001b[0m\u001b[0;34m[\u001b[0m\u001b[0mSequence\u001b[0m\u001b[0;34m[\u001b[0m\u001b[0mint\u001b[0m\u001b[0;34m]\u001b[0m\u001b[0;34m,\u001b[0m \u001b[0mNoneType\u001b[0m\u001b[0;34m]\u001b[0m \u001b[0;34m=\u001b[0m \u001b[0;32mNone\u001b[0m\u001b[0;34m,\u001b[0m\u001b[0;34m\u001b[0m\n",
       "\u001b[0;34m\u001b[0m    \u001b[0munit\u001b[0m\u001b[0;34m:\u001b[0m \u001b[0mslide_tools\u001b[0m\u001b[0;34m.\u001b[0m\u001b[0mobjects\u001b[0m\u001b[0;34m.\u001b[0m\u001b[0mconstants\u001b[0m\u001b[0;34m.\u001b[0m\u001b[0mSizeUnit\u001b[0m \u001b[0;34m=\u001b[0m \u001b[0;34m<\u001b[0m\u001b[0mSizeUnit\u001b[0m\u001b[0;34m.\u001b[0m\u001b[0mPIXEL\u001b[0m\u001b[0;34m:\u001b[0m \u001b[0;34m'pixel'\u001b[0m\u001b[0;34m>\u001b[0m\u001b[0;34m,\u001b[0m\u001b[0;34m\u001b[0m\n",
       "\u001b[0;34m\u001b[0m    \u001b[0mlevel\u001b[0m\u001b[0;34m:\u001b[0m \u001b[0mint\u001b[0m \u001b[0;34m=\u001b[0m \u001b[0;36m0\u001b[0m\u001b[0;34m,\u001b[0m\u001b[0;34m\u001b[0m\n",
       "\u001b[0;34m\u001b[0m    \u001b[0mcentroid_in_annotation\u001b[0m\u001b[0;34m:\u001b[0m \u001b[0mbool\u001b[0m \u001b[0;34m=\u001b[0m \u001b[0;32mFalse\u001b[0m\u001b[0;34m,\u001b[0m\u001b[0;34m\u001b[0m\n",
       "\u001b[0;34m\u001b[0m    \u001b[0mannotation_align\u001b[0m\u001b[0;34m:\u001b[0m \u001b[0mbool\u001b[0m \u001b[0;34m=\u001b[0m \u001b[0;32mFalse\u001b[0m\u001b[0;34m,\u001b[0m\u001b[0;34m\u001b[0m\n",
       "\u001b[0;34m\u001b[0m    \u001b[0mregion_overlap\u001b[0m\u001b[0;34m:\u001b[0m \u001b[0mfloat\u001b[0m \u001b[0;34m=\u001b[0m \u001b[0;36m0.0\u001b[0m\u001b[0;34m,\u001b[0m\u001b[0;34m\u001b[0m\n",
       "\u001b[0;34m\u001b[0m    \u001b[0mwith_labels\u001b[0m\u001b[0;34m:\u001b[0m \u001b[0mbool\u001b[0m \u001b[0;34m=\u001b[0m \u001b[0;32mFalse\u001b[0m\u001b[0;34m,\u001b[0m\u001b[0;34m\u001b[0m\n",
       "\u001b[0;34m\u001b[0m    \u001b[0mfilter_by_label_func\u001b[0m\u001b[0;34m:\u001b[0m \u001b[0mUnion\u001b[0m\u001b[0;34m[\u001b[0m\u001b[0mCallable\u001b[0m\u001b[0;34m,\u001b[0m \u001b[0mNoneType\u001b[0m\u001b[0;34m]\u001b[0m \u001b[0;34m=\u001b[0m \u001b[0;32mNone\u001b[0m\u001b[0;34m,\u001b[0m\u001b[0;34m\u001b[0m\n",
       "\u001b[0;34m\u001b[0m\u001b[0;34m)\u001b[0m\u001b[0;34m\u001b[0m\u001b[0;34m\u001b[0m\u001b[0m\n",
       "\u001b[0;31mDocstring:\u001b[0m\n",
       "Call .setup_regions(...) for all .slides\n",
       "See `slide_tools.objects.Slide`\n",
       "\u001b[0;31mFile:\u001b[0m      ~/Lennard/slide_tools/slide_tools/tile_level/tile_level_dataset.py\n",
       "\u001b[0;31mType:\u001b[0m      method\n"
      ]
     },
     "metadata": {},
     "output_type": "display_data"
    }
   ],
   "source": [
    "ds.setup_regions?"
   ]
  },
  {
   "cell_type": "code",
   "execution_count": 12,
   "id": "081d978f-dafb-4a77-8bbf-81092ccc2a29",
   "metadata": {},
   "outputs": [
    {
     "data": {
      "text/plain": [
       "\u001b[0;31mSignature:\u001b[0m\n",
       "\u001b[0mds\u001b[0m\u001b[0;34m.\u001b[0m\u001b[0msetup_epoch\u001b[0m\u001b[0;34m(\u001b[0m\u001b[0;34m\u001b[0m\n",
       "\u001b[0;34m\u001b[0m    \u001b[0mbalance_size_by\u001b[0m\u001b[0;34m:\u001b[0m \u001b[0mUnion\u001b[0m\u001b[0;34m[\u001b[0m\u001b[0mslide_tools\u001b[0m\u001b[0;34m.\u001b[0m\u001b[0mobjects\u001b[0m\u001b[0;34m.\u001b[0m\u001b[0mconstants\u001b[0m\u001b[0;34m.\u001b[0m\u001b[0mBalanceMode\u001b[0m\u001b[0;34m,\u001b[0m \u001b[0mint\u001b[0m\u001b[0;34m,\u001b[0m \u001b[0mNoneType\u001b[0m\u001b[0;34m]\u001b[0m \u001b[0;34m=\u001b[0m \u001b[0;32mNone\u001b[0m\u001b[0;34m,\u001b[0m\u001b[0;34m\u001b[0m\n",
       "\u001b[0;34m\u001b[0m    \u001b[0mbalance_label_key\u001b[0m\u001b[0;34m:\u001b[0m \u001b[0mUnion\u001b[0m\u001b[0;34m[\u001b[0m\u001b[0mstr\u001b[0m\u001b[0;34m,\u001b[0m \u001b[0mNoneType\u001b[0m\u001b[0;34m]\u001b[0m \u001b[0;34m=\u001b[0m \u001b[0;32mNone\u001b[0m\u001b[0;34m,\u001b[0m\u001b[0;34m\u001b[0m\n",
       "\u001b[0;34m\u001b[0m    \u001b[0mbalance_label_bins\u001b[0m\u001b[0;34m:\u001b[0m \u001b[0mint\u001b[0m \u001b[0;34m=\u001b[0m \u001b[0;36m10\u001b[0m\u001b[0;34m,\u001b[0m\u001b[0;34m\u001b[0m\n",
       "\u001b[0;34m\u001b[0m    \u001b[0mshuffle\u001b[0m\u001b[0;34m:\u001b[0m \u001b[0mbool\u001b[0m \u001b[0;34m=\u001b[0m \u001b[0;32mFalse\u001b[0m\u001b[0;34m,\u001b[0m\u001b[0;34m\u001b[0m\n",
       "\u001b[0;34m\u001b[0m    \u001b[0mshuffle_chunk_size\u001b[0m\u001b[0;34m:\u001b[0m \u001b[0mint\u001b[0m \u001b[0;34m=\u001b[0m \u001b[0;36m1\u001b[0m\u001b[0;34m,\u001b[0m\u001b[0;34m\u001b[0m\n",
       "\u001b[0;34m\u001b[0m\u001b[0;34m)\u001b[0m\u001b[0;34m\u001b[0m\u001b[0;34m\u001b[0m\u001b[0m\n",
       "\u001b[0;31mDocstring:\u001b[0m\n",
       "Populate .samples with corresponding region from all .slides to iterate over.\n",
       "\n",
       "Args:\n",
       "    balance_size_by (BalanceMode or int, optional): Determines N_samples = len(.slides) * balance_size_by\n",
       "    balance_label_key (str, optional): label used for balancing (will be digitized, see np.digitize)\n",
       "    balance_label_bins (int, optional): number of bins for label digitization (default: 10)\n",
       "    shuffle (bool): shuffle samples or not\n",
       "    shuffle_chunk_size (int): chunk samples before shuffling for faster loading (default: 1)\n",
       "\n",
       "Balancing by size and/or label will determine a regions weight for being sampled with replacement.\n",
       "Shuffling can be done in chunks so that a worker is more likely to read multiple (neighboring) tiles\n",
       "from one slide which will likely lead to a speedup. Keep your batch size in mind as you will likely get\n",
       "batch_size/shuffle_chunk_size different slides inside each batch.\n",
       "\u001b[0;31mFile:\u001b[0m      ~/Lennard/slide_tools/slide_tools/tile_level/tile_level_dataset.py\n",
       "\u001b[0;31mType:\u001b[0m      method\n"
      ]
     },
     "metadata": {},
     "output_type": "display_data"
    }
   ],
   "source": [
    "ds.setup_epoch?"
   ]
  }
 ],
 "metadata": {
  "kernelspec": {
   "display_name": "Python 3 (ipykernel)",
   "language": "python",
   "name": "python3"
  },
  "language_info": {
   "codemirror_mode": {
    "name": "ipython",
    "version": 3
   },
   "file_extension": ".py",
   "mimetype": "text/x-python",
   "name": "python",
   "nbconvert_exporter": "python",
   "pygments_lexer": "ipython3",
   "version": "3.8.12"
  }
 },
 "nbformat": 4,
 "nbformat_minor": 5
}
