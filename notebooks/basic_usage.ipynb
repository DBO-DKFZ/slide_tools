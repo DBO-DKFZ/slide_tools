{
 "cells": [
  {
   "cell_type": "code",
   "execution_count": 1,
   "id": "64a76b07-1d53-406d-802a-a722af4e5221",
   "metadata": {},
   "outputs": [],
   "source": [
    "import os\n",
    "import glob\n",
    "import slide_tools"
   ]
  },
  {
   "cell_type": "code",
   "execution_count": 2,
   "id": "1f92bcc7-cda0-4cc2-9564-2120c3f70fc2",
   "metadata": {},
   "outputs": [
    {
     "name": "stdout",
     "output_type": "stream",
     "text": [
      "Found 584 slides\n"
     ]
    }
   ],
   "source": [
    "slide_paths = sorted(glob.glob(\"/media/hdd_big/gyn/slides/*.svs\") + glob.glob(\"/media/hdd_big/gyn/pseudo_slides/*.svs\"), key=os.path.basename)\n",
    "annotation_paths = sorted(glob.glob(\"../../hrd/data/ago-tr1/annotations/*.geojson\"))\n",
    "assert len(slide_paths) == len(annotation_paths)\n",
    "print(f\"Found {len(slide_paths)} slides\")"
   ]
  },
  {
   "cell_type": "markdown",
   "id": "edf8213d-1539-4874-99b3-efe8f6829d09",
   "metadata": {},
   "source": [
    "### Load tiles without annotation (very fast)"
   ]
  },
  {
   "cell_type": "code",
   "execution_count": 3,
   "id": "7cd09d5a-fa0a-4448-bc11-79c82d7bcc42",
   "metadata": {},
   "outputs": [
    {
     "name": "stderr",
     "output_type": "stream",
     "text": [
      "[Plugin: cucim.kit.cuslide] Loading the dynamic library from: /home/allstar-04/anaconda3/envs/timmae/lib/python3.8/site-packages/cucim/clara/cucim.kit.cuslide@22.02.00.so\n",
      "Initializing plugin: cucim.kit.cuslide (interfaces: [cucim::io::IImageFormat v0.1]) (impl: cucim.kit.cuslide)\n",
      "[Plugin: cucim.kit.cumed] Loading the dynamic library from: /home/allstar-04/anaconda3/envs/timmae/lib/python3.8/site-packages/cucim/clara/cucim.kit.cumed@22.02.00.so\n",
      "Initializing plugin: cucim.kit.cumed (interfaces: [cucim::io::IImageFormat v0.1]) (impl: cucim.kit.cumed)\n"
     ]
    },
    {
     "name": "stdout",
     "output_type": "stream",
     "text": [
      "Found 69439613 tiles of native size\n",
      "CPU times: user 19 s, sys: 1.95 s, total: 20.9 s\n",
      "Wall time: 21.3 s\n"
     ]
    }
   ],
   "source": [
    "%%time\n",
    "ds = slide_tools.datasets.TileLevelDataset(\n",
    "    slide_paths=slide_paths,\n",
    "    annotation_paths=annotation_paths,\n",
    "    simplify_tolerance=100,\n",
    ")\n",
    "print(f\"Found {len(ds.samples)} tiles of native size\")"
   ]
  },
  {
   "cell_type": "markdown",
   "id": "4ab9b7c6-04c0-4da9-9934-477eb44bc627",
   "metadata": {},
   "source": [
    "### Load tiles with annotation (still fast)"
   ]
  },
  {
   "cell_type": "code",
   "execution_count": 4,
   "id": "a9489aee-020a-4d72-8a1b-cece0a06e750",
   "metadata": {},
   "outputs": [
    {
     "name": "stdout",
     "output_type": "stream",
     "text": [
      "Found 29300444 tiles of native size inside annotations\n",
      "CPU times: user 4.23 s, sys: 279 ms, total: 4.51 s\n",
      "Wall time: 4.52 s\n"
     ]
    }
   ],
   "source": [
    "%%time\n",
    "ds.setup_regions(centroid_in_annotation=True)\n",
    "ds.setup_epoch()\n",
    "print(f\"Found {len(ds.samples)} tiles of native size inside annotations\")"
   ]
  },
  {
   "cell_type": "code",
   "execution_count": 5,
   "id": "e260caa4-d170-4985-829b-bb5d00dd486d",
   "metadata": {},
   "outputs": [
    {
     "name": "stdout",
     "output_type": "stream",
     "text": [
      "Found 117206963 tiles of native size inside annotations with overlap of 0.5\n",
      "CPU times: user 11.3 s, sys: 1.14 s, total: 12.5 s\n",
      "Wall time: 12.5 s\n"
     ]
    }
   ],
   "source": [
    "%%time\n",
    "region_overlap = 0.5\n",
    "ds.setup_regions(centroid_in_annotation=True, region_overlap=region_overlap)\n",
    "ds.setup_epoch()\n",
    "print(f\"Found {len(ds.samples)} tiles of native size inside annotations with overlap of {region_overlap}\")"
   ]
  },
  {
   "cell_type": "markdown",
   "id": "a121d29b-a1e1-452a-aa04-9e288e536852",
   "metadata": {},
   "source": [
    "### Balancing by size "
   ]
  },
  {
   "cell_type": "code",
   "execution_count": 6,
   "id": "7ff8477c-862d-40a0-8d2b-d8a14d4e199e",
   "metadata": {},
   "outputs": [
    {
     "name": "stdout",
     "output_type": "stream",
     "text": [
      "Found 29157952 tiles of native size inside annotations with overlap of 0.5 and balanced by size\n",
      "CPU times: user 38.2 s, sys: 204 ms, total: 38.4 s\n",
      "Wall time: 38.5 s\n"
     ]
    }
   ],
   "source": [
    "%%time\n",
    "ds.setup_regions(centroid_in_annotation=True)\n",
    "ds.setup_epoch(\n",
    "    shuffle=True,\n",
    "    balance_size_by=slide_tools.objects.BalanceMode.MEDIAN,\n",
    ")\n",
    "print(f\"Found {len(ds.samples)} tiles of native size inside annotations with overlap of {region_overlap} and balanced by size\")"
   ]
  },
  {
   "cell_type": "markdown",
   "id": "55397fbc-4e6c-4c82-91c5-59c8b204f0bc",
   "metadata": {},
   "source": [
    "### Shuffling with shuffle_chunk_size > 1 can be a little bit slow but will save time when loading tiles"
   ]
  },
  {
   "cell_type": "code",
   "execution_count": 7,
   "id": "2370f13f-2803-438f-afc3-d99a63f21950",
   "metadata": {},
   "outputs": [
    {
     "name": "stdout",
     "output_type": "stream",
     "text": [
      "Found 29157952 tiles of native size\n",
      "CPU times: user 1min 16s, sys: 587 ms, total: 1min 16s\n",
      "Wall time: 1min 16s\n"
     ]
    }
   ],
   "source": [
    "%%time\n",
    "ds.setup_epoch(\n",
    "    shuffle=True,\n",
    "    balance_size_by=slide_tools.objects.BalanceMode.MEDIAN,\n",
    "    shuffle_chunk_size=9,\n",
    ")\n",
    "print(f\"Found {len(ds.samples)} tiles of native size\")"
   ]
  },
  {
   "cell_type": "markdown",
   "id": "5941a1e7-bdd4-4dad-92f3-3e4fd38bb330",
   "metadata": {},
   "source": [
    "### Some documentation"
   ]
  },
  {
   "cell_type": "code",
   "execution_count": 8,
   "id": "18279917-49a9-4a60-affe-3650f9ca057e",
   "metadata": {},
   "outputs": [
    {
     "data": {
      "text/plain": [
       "\u001b[0;31mInit signature:\u001b[0m \u001b[0mslide_tools\u001b[0m\u001b[0;34m.\u001b[0m\u001b[0mdatasets\u001b[0m\u001b[0;34m.\u001b[0m\u001b[0mTileLevelDataset\u001b[0m\u001b[0;34m(\u001b[0m\u001b[0;34m*\u001b[0m\u001b[0margs\u001b[0m\u001b[0;34m,\u001b[0m \u001b[0;34m**\u001b[0m\u001b[0mkwds\u001b[0m\u001b[0;34m)\u001b[0m\u001b[0;34m\u001b[0m\u001b[0;34m\u001b[0m\u001b[0m\n",
       "\u001b[0;31mDocstring:\u001b[0m     \n",
       "An abstract class representing a :class:`Dataset`.\n",
       "\n",
       "All datasets that represent a map from keys to data samples should subclass\n",
       "it. All subclasses should overwrite :meth:`__getitem__`, supporting fetching a\n",
       "data sample for a given key. Subclasses could also optionally overwrite\n",
       ":meth:`__len__`, which is expected to return the size of the dataset by many\n",
       ":class:`~torch.utils.data.Sampler` implementations and the default options\n",
       "of :class:`~torch.utils.data.DataLoader`.\n",
       "\n",
       ".. note::\n",
       "  :class:`~torch.utils.data.DataLoader` by default constructs a index\n",
       "  sampler that yields integral indices.  To make it work with a map-style\n",
       "  dataset with non-integral indices/keys, a custom sampler must be provided.\n",
       "\u001b[0;31mInit docstring:\u001b[0m\n",
       "Map-style dataset for tile-level training of WSI.\n",
       "\n",
       "The idea is to call .setup_epoch(...) at the beginning of every epoch to sample\n",
       "new tiles from the pool of available WSI. This will populate .samples which\n",
       "are just indices ((slide_idx, region_idx), ...). Balancing by slide size and tile labels\n",
       "are supported. Shuffling is also handled inside this dataset (so you should disbale it\n",
       "in your DataLoader)and can be done in chunks such that a worker is more likely to read\n",
       "a few (neighboring) tiles from the same slide which should lead to some speed up.\n",
       "\n",
       "Regions are np.array with shape=[height, width, channels].\n",
       "\n",
       "Args:\n",
       "    slide_paths (sequence of str): WSI paths (must be readable by cuCIM)\n",
       "    annotation_paths (sequence of str, optional): annotation-GeoJSON paths\n",
       "    label_paths (sequence of str, optional): label-JSON paths\n",
       "    global_labels (dict, optional): global label dictionary\n",
       "    img_tfms (callable, optional): image transform (np.array -> np.array or torch.tensor)\n",
       "    label_tfms (callable, optional): label transform (dict of np.array -> dict of np.array)\n",
       "    **kwargs: passed down to .setup_regions() and .setup_epoch()\n",
       "\u001b[0;31mFile:\u001b[0m           ~/lennard/slide_tools/slide_tools/datasets/tile_level.py\n",
       "\u001b[0;31mType:\u001b[0m           type\n",
       "\u001b[0;31mSubclasses:\u001b[0m     \n"
      ]
     },
     "metadata": {},
     "output_type": "display_data"
    }
   ],
   "source": [
    "slide_tools.datasets.TileLevelDataset?"
   ]
  },
  {
   "cell_type": "code",
   "execution_count": 9,
   "id": "cd46472f-82dc-46a1-aa92-9ef19ec312a0",
   "metadata": {},
   "outputs": [
    {
     "data": {
      "text/plain": [
       "\u001b[0;31mSignature:\u001b[0m\n",
       "\u001b[0mds\u001b[0m\u001b[0;34m.\u001b[0m\u001b[0msetup_regions\u001b[0m\u001b[0;34m(\u001b[0m\u001b[0;34m\u001b[0m\n",
       "\u001b[0;34m\u001b[0m    \u001b[0msize\u001b[0m\u001b[0;34m:\u001b[0m \u001b[0mUnion\u001b[0m\u001b[0;34m[\u001b[0m\u001b[0mSequence\u001b[0m\u001b[0;34m[\u001b[0m\u001b[0mint\u001b[0m\u001b[0;34m]\u001b[0m\u001b[0;34m,\u001b[0m \u001b[0mNoneType\u001b[0m\u001b[0;34m]\u001b[0m \u001b[0;34m=\u001b[0m \u001b[0;32mNone\u001b[0m\u001b[0;34m,\u001b[0m\u001b[0;34m\u001b[0m\n",
       "\u001b[0;34m\u001b[0m    \u001b[0munit\u001b[0m\u001b[0;34m:\u001b[0m \u001b[0mslide_tools\u001b[0m\u001b[0;34m.\u001b[0m\u001b[0mobjects\u001b[0m\u001b[0;34m.\u001b[0m\u001b[0mconstants\u001b[0m\u001b[0;34m.\u001b[0m\u001b[0mSizeUnit\u001b[0m \u001b[0;34m=\u001b[0m \u001b[0;34m<\u001b[0m\u001b[0mSizeUnit\u001b[0m\u001b[0;34m.\u001b[0m\u001b[0mPIXEL\u001b[0m\u001b[0;34m:\u001b[0m \u001b[0;34m'pixel'\u001b[0m\u001b[0;34m>\u001b[0m\u001b[0;34m,\u001b[0m\u001b[0;34m\u001b[0m\n",
       "\u001b[0;34m\u001b[0m    \u001b[0mlevel\u001b[0m\u001b[0;34m:\u001b[0m \u001b[0mint\u001b[0m \u001b[0;34m=\u001b[0m \u001b[0;36m0\u001b[0m\u001b[0;34m,\u001b[0m\u001b[0;34m\u001b[0m\n",
       "\u001b[0;34m\u001b[0m    \u001b[0mcentroid_in_annotation\u001b[0m\u001b[0;34m:\u001b[0m \u001b[0mbool\u001b[0m \u001b[0;34m=\u001b[0m \u001b[0;32mFalse\u001b[0m\u001b[0;34m,\u001b[0m\u001b[0;34m\u001b[0m\n",
       "\u001b[0;34m\u001b[0m    \u001b[0mannotation_align\u001b[0m\u001b[0;34m:\u001b[0m \u001b[0mbool\u001b[0m \u001b[0;34m=\u001b[0m \u001b[0;32mFalse\u001b[0m\u001b[0;34m,\u001b[0m\u001b[0;34m\u001b[0m\n",
       "\u001b[0;34m\u001b[0m    \u001b[0mregion_overlap\u001b[0m\u001b[0;34m:\u001b[0m \u001b[0mfloat\u001b[0m \u001b[0;34m=\u001b[0m \u001b[0;36m0.0\u001b[0m\u001b[0;34m,\u001b[0m\u001b[0;34m\u001b[0m\n",
       "\u001b[0;34m\u001b[0m    \u001b[0mwith_labels\u001b[0m\u001b[0;34m:\u001b[0m \u001b[0mbool\u001b[0m \u001b[0;34m=\u001b[0m \u001b[0;32mFalse\u001b[0m\u001b[0;34m,\u001b[0m\u001b[0;34m\u001b[0m\n",
       "\u001b[0;34m\u001b[0m\u001b[0;34m)\u001b[0m\u001b[0;34m\u001b[0m\u001b[0;34m\u001b[0m\u001b[0m\n",
       "\u001b[0;31mDocstring:\u001b[0m\n",
       "Call .setup_regions(...) for all .slides\n",
       "See `slide_tools.objects.Slide`\n",
       "\u001b[0;31mFile:\u001b[0m      ~/lennard/slide_tools/slide_tools/datasets/tile_level.py\n",
       "\u001b[0;31mType:\u001b[0m      method\n"
      ]
     },
     "metadata": {},
     "output_type": "display_data"
    }
   ],
   "source": [
    "ds.setup_regions?"
   ]
  },
  {
   "cell_type": "code",
   "execution_count": 10,
   "id": "081d978f-dafb-4a77-8bbf-81092ccc2a29",
   "metadata": {},
   "outputs": [
    {
     "data": {
      "text/plain": [
       "\u001b[0;31mSignature:\u001b[0m\n",
       "\u001b[0mds\u001b[0m\u001b[0;34m.\u001b[0m\u001b[0msetup_epoch\u001b[0m\u001b[0;34m(\u001b[0m\u001b[0;34m\u001b[0m\n",
       "\u001b[0;34m\u001b[0m    \u001b[0mbalance_size_by\u001b[0m\u001b[0;34m:\u001b[0m \u001b[0mUnion\u001b[0m\u001b[0;34m[\u001b[0m\u001b[0mslide_tools\u001b[0m\u001b[0;34m.\u001b[0m\u001b[0mobjects\u001b[0m\u001b[0;34m.\u001b[0m\u001b[0mconstants\u001b[0m\u001b[0;34m.\u001b[0m\u001b[0mBalanceMode\u001b[0m\u001b[0;34m,\u001b[0m \u001b[0mint\u001b[0m\u001b[0;34m,\u001b[0m \u001b[0mNoneType\u001b[0m\u001b[0;34m]\u001b[0m \u001b[0;34m=\u001b[0m \u001b[0;32mNone\u001b[0m\u001b[0;34m,\u001b[0m\u001b[0;34m\u001b[0m\n",
       "\u001b[0;34m\u001b[0m    \u001b[0mbalance_label_key\u001b[0m\u001b[0;34m:\u001b[0m \u001b[0mUnion\u001b[0m\u001b[0;34m[\u001b[0m\u001b[0mstr\u001b[0m\u001b[0;34m,\u001b[0m \u001b[0mNoneType\u001b[0m\u001b[0;34m]\u001b[0m \u001b[0;34m=\u001b[0m \u001b[0;32mNone\u001b[0m\u001b[0;34m,\u001b[0m\u001b[0;34m\u001b[0m\n",
       "\u001b[0;34m\u001b[0m    \u001b[0mbalance_label_bins\u001b[0m\u001b[0;34m:\u001b[0m \u001b[0mint\u001b[0m \u001b[0;34m=\u001b[0m \u001b[0;36m10\u001b[0m\u001b[0;34m,\u001b[0m\u001b[0;34m\u001b[0m\n",
       "\u001b[0;34m\u001b[0m    \u001b[0mshuffle\u001b[0m\u001b[0;34m:\u001b[0m \u001b[0mbool\u001b[0m \u001b[0;34m=\u001b[0m \u001b[0;32mFalse\u001b[0m\u001b[0;34m,\u001b[0m\u001b[0;34m\u001b[0m\n",
       "\u001b[0;34m\u001b[0m    \u001b[0mshuffle_chunk_size\u001b[0m\u001b[0;34m:\u001b[0m \u001b[0mint\u001b[0m \u001b[0;34m=\u001b[0m \u001b[0;36m1\u001b[0m\u001b[0;34m,\u001b[0m\u001b[0;34m\u001b[0m\n",
       "\u001b[0;34m\u001b[0m\u001b[0;34m)\u001b[0m\u001b[0;34m\u001b[0m\u001b[0;34m\u001b[0m\u001b[0m\n",
       "\u001b[0;31mDocstring:\u001b[0m\n",
       "Populate .samples with corresponding region from all .slides to iterate over.\n",
       "\n",
       "Args:\n",
       "    balance_size_by (BalanceMode or int, optional): Determines N_samples = len(.slides) * balance_size_by\n",
       "    balance_label_key (str, optional): label used for balancing (will be digitized, see np.digitize)\n",
       "    balance_label_bins (int, optional): number of bins for label digitization (default: 10)\n",
       "    shuffle (bool): shuffle samples or not\n",
       "    shuffle_chunk_size (int): chunk samples before shuffling for faster loading (default: 1)\n",
       "    \n",
       "Balancing by size and/or label will determine a regions weight for being sampled with replacement.\n",
       "Shuffling can be done in chunks so that a worker is more likely to read multiple (neighboring) tiles\n",
       "from one slide which will likely lead to a speedup. Keep your batch size in mind as you will likely get\n",
       "batch_size/shuffle_chunk_size different slides inside each batch.\n",
       "\u001b[0;31mFile:\u001b[0m      ~/lennard/slide_tools/slide_tools/datasets/tile_level.py\n",
       "\u001b[0;31mType:\u001b[0m      method\n"
      ]
     },
     "metadata": {},
     "output_type": "display_data"
    }
   ],
   "source": [
    "ds.setup_epoch?"
   ]
  }
 ],
 "metadata": {
  "kernelspec": {
   "display_name": "Python 3 (ipykernel)",
   "language": "python",
   "name": "python3"
  },
  "language_info": {
   "codemirror_mode": {
    "name": "ipython",
    "version": 3
   },
   "file_extension": ".py",
   "mimetype": "text/x-python",
   "name": "python",
   "nbconvert_exporter": "python",
   "pygments_lexer": "ipython3",
   "version": "3.8.12"
  }
 },
 "nbformat": 4,
 "nbformat_minor": 5
}
